{
 "cells": [
  {
   "cell_type": "code",
   "execution_count": 1,
   "metadata": {
    "collapsed": false
   },
   "outputs": [
    {
     "name": "stdout",
     "output_type": "stream",
     "text": [
      "Populating the interactive namespace from numpy and matplotlib\n"
     ]
    }
   ],
   "source": [
    "import Cliff_Walk_Environment\n",
    "import REINFORCE\n",
    "\n",
    "%pylab inline"
   ]
  },
  {
   "cell_type": "code",
   "execution_count": 2,
   "metadata": {
    "collapsed": true
   },
   "outputs": [],
   "source": [
    "#Defining the hyper-parameters\n",
    "NUMBER_OF_EPISODES_TO_CONSIDER = 10000\n",
    "GAMMA = 0.9"
   ]
  },
  {
   "cell_type": "code",
   "execution_count": 3,
   "metadata": {
    "collapsed": true
   },
   "outputs": [],
   "source": [
    "env = Cliff_Walk_Environment.Cliff_Walking_Environment(START_STATE = '36', END_STATE = '47')\n",
    "reinforce_agent = REINFORCE.REINFORCE_Agent(env = env)"
   ]
  },
  {
   "cell_type": "code",
   "execution_count": null,
   "metadata": {
    "collapsed": false
   },
   "outputs": [
    {
     "name": "stdout",
     "output_type": "stream",
     "text": [
      "Episodes done 500\n",
      "Successful episodes during last 500 episodes was 54\n",
      "\n",
      "\n",
      "Episodes done 1000\n",
      "Successful episodes during last 500 episodes was 76\n",
      "\n",
      "\n",
      "Episodes done 1500\n",
      "Successful episodes during last 500 episodes was 120\n",
      "\n",
      "\n",
      "Episodes done 2000\n",
      "Successful episodes during last 500 episodes was 128\n",
      "\n",
      "\n",
      "Episodes done 2500\n",
      "Successful episodes during last 500 episodes was 155\n",
      "\n",
      "\n",
      "Episodes done 3000\n",
      "Successful episodes during last 500 episodes was 156\n",
      "\n",
      "\n",
      "Episodes done 3500\n",
      "Successful episodes during last 500 episodes was 201\n",
      "\n",
      "\n",
      "Episodes done 4000\n",
      "Successful episodes during last 500 episodes was 203\n",
      "\n",
      "\n",
      "Episodes done 4500\n",
      "Successful episodes during last 500 episodes was 249\n",
      "\n",
      "\n",
      "Episodes done 5000\n",
      "Successful episodes during last 500 episodes was 247\n",
      "\n",
      "\n"
     ]
    }
   ],
   "source": [
    "episode_lengths = []\n",
    "episode_rewards = []\n",
    "for episode_iterator in range(NUMBER_OF_EPISODES_TO_CONSIDER):\n",
    "    episode = reinforce_agent.generateEpisode()\n",
    "\n",
    "    episode_lengths.append(len(episode))\n",
    "    episode_rewards.append(reinforce_agent.getDiscountedReturn(episode))\n",
    "    #print(reinforce_agent.weights)\n",
    "    #env.printEnvironment(episode)\n",
    "\n",
    "    if (episode_iterator % 500) == 0 and not (episode_iterator == 0):\n",
    "        print('Episodes done', str(episode_iterator))\n",
    "        print('Successful episodes during last 500 episodes was', str(reinforce_agent.goal_reached))\n",
    "        print('\\n')\n",
    "        reinforce_agent.goal_reached = 0\n",
    "\n",
    "    for episode_iterator in range(len(episode)):\n",
    "        episode_step = episode[episode_iterator]\n",
    "        discounted_return = reinforce_agent.getDiscountedReturn(episode[episode_iterator:])\n",
    "        score_function = reinforce_agent.evaluateScoreFunction(episode_step[0], episode_step[1])\n",
    "        reinforce_agent.doGradientAscent(score_function, discounted_return)"
   ]
  }
 ],
 "metadata": {
  "kernelspec": {
   "display_name": "Python 3",
   "language": "python",
   "name": "python3"
  },
  "language_info": {
   "codemirror_mode": {
    "name": "ipython",
    "version": 3
   },
   "file_extension": ".py",
   "mimetype": "text/x-python",
   "name": "python",
   "nbconvert_exporter": "python",
   "pygments_lexer": "ipython3",
   "version": "3.6.0"
  }
 },
 "nbformat": 4,
 "nbformat_minor": 2
}
