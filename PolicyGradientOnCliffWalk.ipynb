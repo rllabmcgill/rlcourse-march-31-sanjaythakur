{
 "cells": [
  {
   "cell_type": "code",
   "execution_count": 1,
   "metadata": {
    "collapsed": false
   },
   "outputs": [
    {
     "name": "stdout",
     "output_type": "stream",
     "text": [
      "Populating the interactive namespace from numpy and matplotlib\n"
     ]
    }
   ],
   "source": [
    "import Cliff_Walk_Environment\n",
    "import REINFORCE\n",
    "\n",
    "%pylab inline"
   ]
  },
  {
   "cell_type": "code",
   "execution_count": 2,
   "metadata": {
    "collapsed": true
   },
   "outputs": [],
   "source": [
    "#Defining the hyper-parameters\n",
    "NUMBER_OF_EPISODES_TO_CONSIDER = 10000\n",
    "GAMMA = 0.9"
   ]
  },
  {
   "cell_type": "code",
   "execution_count": 3,
   "metadata": {
    "collapsed": true
   },
   "outputs": [],
   "source": [
    "env = Cliff_Walk_Environment.Cliff_Walking_Environment(START_STATE = '36', END_STATE = '47')\n",
    "reinforce_agent = REINFORCE.REINFORCE_Agent(env = env)"
   ]
  },
  {
   "cell_type": "code",
   "execution_count": 4,
   "metadata": {
    "collapsed": false
   },
   "outputs": [
    {
     "name": "stdout",
     "output_type": "stream",
     "text": [
      "Episodes done 500\n",
      "Successful episodes between episode number 500 - 0 is 165\n",
      "\n",
      "\n",
      "Episodes done 1000\n",
      "Successful episodes between episode number 1000 - 500 is 180\n",
      "\n",
      "\n",
      "Episodes done 1500\n",
      "Successful episodes between episode number 1500 - 1000 is 204\n",
      "\n",
      "\n",
      "Episodes done 2000\n",
      "Successful episodes between episode number 2000 - 1500 is 213\n",
      "\n",
      "\n",
      "Episodes done 2500\n",
      "Successful episodes between episode number 2500 - 2000 is 253\n",
      "\n",
      "\n",
      "Episodes done 3000\n",
      "Successful episodes between episode number 3000 - 2500 is 284\n",
      "\n",
      "\n",
      "Episodes done 3500\n",
      "Successful episodes between episode number 3500 - 3000 is 286\n",
      "\n",
      "\n",
      "Episodes done 4000\n",
      "Successful episodes between episode number 4000 - 3500 is 297\n",
      "\n",
      "\n",
      "Episodes done 4500\n",
      "Successful episodes between episode number 4500 - 4000 is 297\n",
      "\n",
      "\n",
      "Episodes done 5000\n",
      "Successful episodes between episode number 5000 - 4500 is 309\n",
      "\n",
      "\n",
      "Episodes done 5500\n",
      "Successful episodes between episode number 5500 - 5000 is 347\n",
      "\n",
      "\n",
      "Episodes done 6000\n",
      "Successful episodes between episode number 6000 - 5500 is 349\n",
      "\n",
      "\n",
      "Episodes done 6500\n",
      "Successful episodes between episode number 6500 - 6000 is 348\n",
      "\n",
      "\n",
      "Episodes done 7000\n",
      "Successful episodes between episode number 7000 - 6500 is 359\n",
      "\n",
      "\n",
      "Episodes done 7500\n",
      "Successful episodes between episode number 7500 - 7000 is 369\n",
      "\n",
      "\n",
      "Episodes done 8000\n",
      "Successful episodes between episode number 8000 - 7500 is 389\n",
      "\n",
      "\n",
      "Episodes done 8500\n",
      "Successful episodes between episode number 8500 - 8000 is 393\n",
      "\n",
      "\n",
      "Episodes done 9000\n",
      "Successful episodes between episode number 9000 - 8500 is 386\n",
      "\n",
      "\n",
      "Episodes done 9500\n",
      "Successful episodes between episode number 9500 - 9000 is 408\n",
      "\n",
      "\n"
     ]
    }
   ],
   "source": [
    "episode_lengths = []\n",
    "episode_rewards = []\n",
    "for episode_iterator in range(NUMBER_OF_EPISODES_TO_CONSIDER):\n",
    "    episode = reinforce_agent.generateEpisode()\n",
    "\n",
    "    episode_lengths.append(len(episode))\n",
    "    episode_rewards.append(reinforce_agent.getDiscountedReturn(episode))\n",
    "    #print(reinforce_agent.weights)\n",
    "    #env.printEnvironment(episode)\n",
    "\n",
    "    if (episode_iterator % 500) == 0 and not (episode_iterator == 0):\n",
    "        print('Episodes done', str(episode_iterator))\n",
    "        print('Successful episodes between episode number', str(episode_iterator), '-' , str(episode_iterator - 500), \"is\", str(reinforce_agent.goal_reached))\n",
    "        print('\\n')\n",
    "        reinforce_agent.goal_reached = 0\n",
    "\n",
    "    for episode_iterator in range(len(episode)):\n",
    "        episode_step = episode[episode_iterator]\n",
    "        discounted_return = reinforce_agent.getDiscountedReturn(episode[episode_iterator:])\n",
    "        score_function = reinforce_agent.evaluateScoreFunction(episode_step[0], episode_step[1])\n",
    "        reinforce_agent.doGradientAscent(score_function, discounted_return)"
   ]
  },
  {
   "cell_type": "code",
   "execution_count": null,
   "metadata": {
    "collapsed": true
   },
   "outputs": [],
   "source": []
  }
 ],
 "metadata": {
  "kernelspec": {
   "display_name": "Python 3",
   "language": "python",
   "name": "python3"
  },
  "language_info": {
   "codemirror_mode": {
    "name": "ipython",
    "version": 3
   },
   "file_extension": ".py",
   "mimetype": "text/x-python",
   "name": "python",
   "nbconvert_exporter": "python",
   "pygments_lexer": "ipython3",
   "version": "3.6.0"
  }
 },
 "nbformat": 4,
 "nbformat_minor": 2
}
